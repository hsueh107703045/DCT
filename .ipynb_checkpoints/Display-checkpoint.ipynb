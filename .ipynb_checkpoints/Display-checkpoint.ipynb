{
 "cells": [
  {
   "cell_type": "code",
   "execution_count": 1,
   "metadata": {},
   "outputs": [
    {
     "name": "stdout",
     "output_type": "stream",
     "text": [
      "4500 8000\n",
      "finish A->B\n",
      "finish A->B (block 1)\n",
      "finish B->A\n",
      "finish B->A (block 1)\n",
      "finish A->B\n",
      "finish A->B (block 1)\n",
      "finish B->A\n",
      "finish B->A (block 1)\n",
      "break 113\n"
     ]
    },
    {
     "data": {
      "text/plain": [
       "-1"
      ]
     },
     "execution_count": 1,
     "metadata": {},
     "output_type": "execute_result"
    }
   ],
   "source": [
    "import sys\n",
    "import cv2\n",
    "from cvzone.PoseModule import PoseDetector\n",
    "import numpy as np\n",
    "\n",
    "imgPath = './images/template_01/'\n",
    "img_A = cv2.imread(imgPath + 'A.png')\n",
    "img_B = cv2.imread(imgPath + 'B.png')\n",
    "img_out = cv2.imread(imgPath + 'A.png')\n",
    "\n",
    "height = img_A.shape[0]\n",
    "width = img_A.shape[1]\n",
    "print(height,width)\n",
    "if img_B.shape[0] != height or img_B.shape[1] != width:\n",
    "    print(\"Error: two images have different sizes\")\n",
    "    sys.exit()   \n",
    "\n",
    "# temptlate (offset, size) (y,x)\n",
    "tplt = np.array([[600,   420,  472, 2530],  # block0 : Head\n",
    "                 [1110,  420, 2340, 4100],  # block1 : Pic\n",
    "                 [3480,  420,  820, 4520],  # block2 : Paragraph\n",
    "                 [140,  5300,  800, 2500],  # block3 : Weather\n",
    "                 [1240, 5300, 1250, 2490],  # block4 : Edit fav\n",
    "                 [2890, 5300, 1500, 2490]]) # block5 : Comment\n",
    "\n",
    "\n",
    "# resizing\n",
    "reduceFactor = 4\n",
    "img_A = cv2.resize(img_A, None, fx=(1/reduceFactor), fy=(1/reduceFactor))\n",
    "img_B = cv2.resize(img_B, None, fx=(1/reduceFactor), fy=(1/reduceFactor))\n",
    "img_out = cv2.resize(img_out, None, fx=(1/reduceFactor), fy=(1/reduceFactor))\n",
    "tplt = tplt//reduceFactor\n",
    "\n",
    "\n",
    "img_segment_0A = img_A[tplt[0,0]:tplt[0,0]+tplt[0,2], tplt[0,1]:tplt[0,1]+tplt[0,3], :]\n",
    "img_segment_0B = img_B[tplt[0,0]:tplt[0,0]+tplt[0,2], tplt[0,1]:tplt[0,1]+tplt[0,3], :]\n",
    "img_segment_1A = img_A[tplt[1,0]:tplt[1,0]+tplt[1,2], tplt[1,1]:tplt[1,1]+tplt[1,3], :]\n",
    "img_segment_1B = img_B[tplt[1,0]:tplt[1,0]+tplt[1,2], tplt[1,1]:tplt[1,1]+tplt[1,3], :]\n",
    "\n",
    "\n",
    "\n",
    "\n",
    "\n",
    "\n",
    "duration = 30\n",
    "blockState = [1,0,0,0,0,0]\n",
    "blockTrigger = [1,1,0,0,0,0]\n",
    "\n",
    "\n",
    "# 0 -> A (still)\n",
    "# 1~99 -> changing from A to B\n",
    "# 100 -> B (still)\n",
    "# 101~199 -> changing from B to A\n",
    "# 200 -> A (still) (return to 0: 200 % 200 = 0)\n",
    "\n",
    "\n",
    "\n",
    "while True:\n",
    "    \n",
    "    # display according to blockState[]\n",
    "    \n",
    "# block 0\n",
    "    #ct = blockState[0]\n",
    "    #img_out[tplt[0,0]:tplt[0,0]+tplt[0,2], tplt[0,1]:tplt[0,1]+tplt[0,3], :] = 0\n",
    "    #'''\n",
    "    if blockState[0] == 0:\n",
    "        img_out[tplt[0,0]:tplt[0,0]+tplt[0,2], tplt[0,1]:tplt[0,1]+tplt[0,3], :] = img_segment_0A\n",
    "        if blockTrigger[0] == 1:\n",
    "            blockState[0] += 1\n",
    "            \n",
    "    elif blockState[0] == duration:\n",
    "        img_out[tplt[0,0]:tplt[0,0]+tplt[0,2], tplt[0,1]:tplt[0,1]+tplt[0,3], :] = img_segment_0B\n",
    "        if blockTrigger[0] == 1:\n",
    "            blockState[0] += 1\n",
    "            \n",
    "    elif blockState[0] < duration: # render A->B\n",
    "        #print(\"A->B\")\n",
    "        img_out[tplt[0,0]:tplt[0,0]+tplt[0,2], tplt[0,1]:tplt[0,1]+tplt[0,3], :] = cv2.addWeighted(img_segment_0B, (blockState[0] / duration), img_segment_0A, ((duration-blockState[0]) / duration), 0)\n",
    "        #(blockState[0] / 100) * img_segment_0B + (100-blockState[0] / 100) * img_segment_0A\n",
    "        blockState[0] += 1\n",
    "        if blockState[0] == duration:\n",
    "            print(\"finish A->B\")\n",
    "            #break\n",
    "        \n",
    "    else: # render B->A\n",
    "        #print(\"B->A\")\n",
    "        alpha = (blockState[0]-duration) / duration\n",
    "        img_out[tplt[0,0]:tplt[0,0]+tplt[0,2], tplt[0,1]:tplt[0,1]+tplt[0,3], :] = cv2.addWeighted(img_segment_0A, alpha, img_segment_0B, (1-alpha), 0)\n",
    "        blockState[0] += 1\n",
    "        if blockState[0] == (duration*2):\n",
    "            print(\"finish B->A\")\n",
    "            #break \n",
    "    \n",
    "    blockState[0] = blockState[0] % (duration * 2)\n",
    "    #'''\n",
    "    \n",
    "    \n",
    "    \n",
    "# block1\n",
    "    if blockState[1] == 0:\n",
    "        img_out[tplt[1,0]:tplt[1,0]+tplt[1,2], tplt[1,1]:tplt[1,1]+tplt[1,3], :] = img_segment_1A\n",
    "        #if (need to change next frame):\n",
    "        blockState[1] += 1\n",
    "            \n",
    "    elif blockState[1] == duration:\n",
    "        img_out[tplt[1,0]:tplt[1,0]+tplt[1,2], tplt[1,1]:tplt[1,1]+tplt[1,3], :] = img_segment_1B\n",
    "        #if (need to change next frame):\n",
    "        blockState[1] += 1\n",
    "            \n",
    "    elif blockState[1] < duration: # render A->B\n",
    "        #print(\"A->B\")\n",
    "        alpha = blockState[1] / duration\n",
    "        img_out[tplt[1,0]:tplt[1,0]+tplt[1,2], tplt[1,1]:tplt[1,1]+tplt[1,3], :] = cv2.addWeighted(img_segment_1B, alpha, img_segment_1A, (1-alpha), 0)\n",
    "        blockState[1] += 1\n",
    "        if blockState[1] == duration:\n",
    "            print(\"finish A->B (block 1)\")\n",
    "            #break\n",
    "        \n",
    "    else: # render B->A\n",
    "        #print(\"B->A\")\n",
    "        alpha = (blockState[1]-duration) / duration\n",
    "        img_out[tplt[1,0]:tplt[1,0]+tplt[1,2], tplt[1,1]:tplt[1,1]+tplt[1,3], :] = cv2.addWeighted(img_segment_1A, alpha, img_segment_1B, (1-alpha), 0)\n",
    "        blockState[1] += 1\n",
    "        if blockState[1] == (duration*2):\n",
    "            print(\"finish B->A (block 1)\")\n",
    "            #break \n",
    "    \n",
    "    blockState[1] = blockState[1] % (duration * 2) \n",
    "    \n",
    "    \n",
    "# block2\n",
    "    img_out[tplt[2,0]:tplt[2,0]+tplt[2,2], tplt[2,1]:tplt[2,1]+tplt[2,3], :] = 0\n",
    "    \n",
    "# block3\n",
    "    img_out[tplt[3,0]:tplt[3,0]+tplt[3,2], tplt[3,1]:tplt[3,1]+tplt[3,3], :] = 0\n",
    "    \n",
    "# block4\n",
    "    img_out[tplt[4,0]:tplt[4,0]+tplt[4,2], tplt[4,1]:tplt[4,1]+tplt[4,3], :] = 0\n",
    "    \n",
    "# block5\n",
    "    img_out[tplt[5,0]:tplt[5,0]+tplt[5,2], tplt[5,1]:tplt[5,1]+tplt[5,3], :] = 0\n",
    "\n",
    "\n",
    "\n",
    "\n",
    "\n",
    "\n",
    "    \n",
    "    #if bodyPosition is in block 1:\n",
    "        #blockState[1] = 1\n",
    "    \n",
    "\n",
    "\n",
    "    \n",
    "    \n",
    "    cv2.imshow('img',img_out)\n",
    "    cv2.waitKey(1) \n",
    "    \n",
    "    #'''\n",
    "    key = cv2.waitKey(1) # 30??\n",
    "    if key & 0xFF == ord('q'): # 27=ESC 113='q'\n",
    "        print(\"break\", key)\n",
    "        break\n",
    "    #'''\n",
    "        \n",
    "### end of main loop\n",
    "\n",
    "    \n",
    "    \n",
    "    \n",
    "    \n",
    "\n",
    "cv2.waitKey(0)\n",
    "cv2.destroyAllWindows()\n",
    "cv2.waitKey(1) \n",
    "\n",
    "\n",
    "\n",
    "\n",
    "\n",
    "\n",
    "\n"
   ]
  },
  {
   "cell_type": "code",
   "execution_count": 8,
   "metadata": {},
   "outputs": [
    {
     "name": "stdout",
     "output_type": "stream",
     "text": [
      "111\n",
      "22\n"
     ]
    }
   ],
   "source": [
    "import logging\n",
    "import sys\n",
    "print(111)\n",
    "#logging.exception(\"two images have different sizes\")\n",
    "#sys.exit()\n",
    "print(22)"
   ]
  },
  {
   "cell_type": "code",
   "execution_count": 12,
   "metadata": {},
   "outputs": [
    {
     "name": "stdout",
     "output_type": "stream",
     "text": [
      "0\n"
     ]
    }
   ],
   "source": [
    "# temptlate\n",
    "tplt = np.array([[0,   0,   100, 100], # block0 (offset, size) (y,x)\n",
    "        [100, 100, 100, 100], # block1\n",
    "        [200, 200, 100, 100], # block2\n",
    "        [300, 300, 100, 100], # block3\n",
    "        [400, 400, 100, 100], # block4\n",
    "        [500, 500, 100, 100]]) # block5\n",
    "\n",
    "print(tplt[0,0])"
   ]
  },
  {
   "cell_type": "code",
   "execution_count": 7,
   "metadata": {},
   "outputs": [
    {
     "data": {
      "text/plain": [
       "-1"
      ]
     },
     "execution_count": 7,
     "metadata": {},
     "output_type": "execute_result"
    }
   ],
   "source": [
    "img_segment_1A = img_A[tplt[0,0]:tplt[0,0]+tplt[0,2], tplt[0,1]:tplt[0,1]+tplt[0,3], :]\n",
    "\n",
    "cv2.imshow('img',img_segment_1A)\n",
    "\n",
    "\n",
    "\n",
    "cv2.waitKey(0)\n",
    "cv2.destroyAllWindows()\n",
    "cv2.waitKey(1) \n"
   ]
  },
  {
   "cell_type": "code",
   "execution_count": 2,
   "metadata": {},
   "outputs": [],
   "source": [
    "import cv2\n",
    "key = 88\n",
    "while True:\n",
    "    \n",
    "#    print(key)\n",
    "    \n",
    "    key = cv2.waitKey(30) # 30??\n",
    "    if key == ord('q') or key == 27: # 27=ESC 113='q'\n",
    "        print(\"break\", key)\n",
    "        key = 999\n",
    "        break"
   ]
  },
  {
   "cell_type": "code",
   "execution_count": 11,
   "metadata": {},
   "outputs": [
    {
     "data": {
      "text/plain": [
       "50"
      ]
     },
     "execution_count": 11,
     "metadata": {},
     "output_type": "execute_result"
    }
   ],
   "source": [
    "\n",
    "\n",
    "def add10(x,y):\n",
    "    return 10*(x+y)\n",
    "add10(3,2)"
   ]
  },
  {
   "cell_type": "code",
   "execution_count": 21,
   "metadata": {},
   "outputs": [
    {
     "data": {
      "text/plain": [
       "array([[ 150,  105,  118,  632],\n",
       "       [ 277,  105,  585, 1025],\n",
       "       [ 870,  105,  205, 1130],\n",
       "       [  35, 1325,  200,  625],\n",
       "       [ 310, 1325,  312,  622],\n",
       "       [ 722, 1325,  375,  622]])"
      ]
     },
     "execution_count": 21,
     "metadata": {},
     "output_type": "execute_result"
    }
   ],
   "source": [
    "tplt//4"
   ]
  },
  {
   "cell_type": "code",
   "execution_count": 24,
   "metadata": {},
   "outputs": [],
   "source": []
  },
  {
   "cell_type": "code",
   "execution_count": null,
   "metadata": {},
   "outputs": [],
   "source": []
  }
 ],
 "metadata": {
  "kernelspec": {
   "display_name": "Python 3",
   "language": "python",
   "name": "python3"
  },
  "language_info": {
   "codemirror_mode": {
    "name": "ipython",
    "version": 3
   },
   "file_extension": ".py",
   "mimetype": "text/x-python",
   "name": "python",
   "nbconvert_exporter": "python",
   "pygments_lexer": "ipython3",
   "version": "3.8.5"
  }
 },
 "nbformat": 4,
 "nbformat_minor": 4
}
