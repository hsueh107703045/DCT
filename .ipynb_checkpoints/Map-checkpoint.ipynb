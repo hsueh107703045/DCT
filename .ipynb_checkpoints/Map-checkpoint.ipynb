{
 "cells": [
  {
   "cell_type": "code",
   "execution_count": 1,
   "metadata": {},
   "outputs": [
    {
     "data": {
      "text/plain": [
       "True"
      ]
     },
     "execution_count": 1,
     "metadata": {},
     "output_type": "execute_result"
    }
   ],
   "source": [
    "# this is a test program for generating a little map showing where the person is and the block he/she in\n",
    "\n",
    "import cv2\n",
    "import numpy as np\n",
    "\n",
    "height = 400\n",
    "width = 400\n",
    "img = np.zeros((height,width,3), np.uint8)\n",
    "\n",
    "x = 350\n",
    "y = 110\n",
    "\n",
    "corner = ((x//200)*200, (y//200)*200)\n",
    "#shift_vec = ()\n",
    "cv2.rectangle(img, corner, ( corner[0]+(width//2), corner[1]+(height//2) ), (85,85,85), -1)\n",
    "\n",
    "cv2.rectangle(img, (0,0), (width,height), (240,240,240), 4)\n",
    "cv2.line(img,(0,height//2),(width,height//2),(255,255,255),1) # x-axis\n",
    "cv2.line(img,(width//2,0),(width//2,height),(255,255,255),1) # y-axis\n",
    "#cv2.rectangle(img, corner, ( corner[0]+(width//2), corner[1]+(height//2) ), (100,255,100), 10)   \n",
    "\n",
    "cv2.circle(img, (x,y), 15, (100,255,100), -1)\n",
    "\n",
    "cv2.imwrite('map.png', img)\n"
   ]
  },
  {
   "cell_type": "code",
   "execution_count": 54,
   "metadata": {},
   "outputs": [
    {
     "data": {
      "text/plain": [
       "0"
      ]
     },
     "execution_count": 54,
     "metadata": {},
     "output_type": "execute_result"
    }
   ],
   "source": [
    "# this is a pseudo code of Easing function\n",
    "\n",
    "'''\n",
    "float x;\n",
    "float y;\n",
    "float easing = 0.05;\n",
    "\n",
    "while(true){\n",
    "  float targetX = getLocationX();\n",
    "  float targetY = getLocationY();\n",
    "    \n",
    "  float dx = targetX - x;\n",
    "  x += dx * easing;\n",
    "  \n",
    "  float dy = targetY - y;\n",
    "  y += dy * easing;\n",
    "  \n",
    "  drawCircle(x,y,r=10);\n",
    "  return;\n",
    "}\n",
    "'''\n"
   ]
  },
  {
   "cell_type": "code",
   "execution_count": null,
   "metadata": {},
   "outputs": [],
   "source": []
  }
 ],
 "metadata": {
  "kernelspec": {
   "display_name": "Python 3",
   "language": "python",
   "name": "python3"
  },
  "language_info": {
   "codemirror_mode": {
    "name": "ipython",
    "version": 3
   },
   "file_extension": ".py",
   "mimetype": "text/x-python",
   "name": "python",
   "nbconvert_exporter": "python",
   "pygments_lexer": "ipython3",
   "version": "3.8.5"
  }
 },
 "nbformat": 4,
 "nbformat_minor": 4
}
