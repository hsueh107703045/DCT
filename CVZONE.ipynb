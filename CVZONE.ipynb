{
 "cells": [
  {
   "cell_type": "code",
   "execution_count": 1,
   "metadata": {
    "collapsed": true,
    "jupyter": {
     "outputs_hidden": true
    }
   },
   "outputs": [
    {
     "name": "stdout",
     "output_type": "stream",
     "text": [
      "Collecting cvzone\n",
      "  Downloading cvzone-1.5.6.tar.gz (12 kB)\n",
      "Requirement already satisfied: opencv-python in /Users/hsueh/opt/anaconda3/lib/python3.8/site-packages (from cvzone) (4.5.1.48)\n",
      "Requirement already satisfied: numpy in /Users/hsueh/opt/anaconda3/lib/python3.8/site-packages (from cvzone) (1.19.2)\n",
      "Building wheels for collected packages: cvzone\n",
      "  Building wheel for cvzone (setup.py) ... \u001b[?25ldone\n",
      "\u001b[?25h  Created wheel for cvzone: filename=cvzone-1.5.6-py3-none-any.whl size=18766 sha256=c9d30b3f73094b65fbca08cac859e3c6f18a4a83d9499818e54e64121b9a1245\n",
      "  Stored in directory: /Users/hsueh/Library/Caches/pip/wheels/67/60/9a/e5060027d8eae2c01ba872fdbc094a6fe3fee15794ee3dc709\n",
      "Successfully built cvzone\n",
      "Installing collected packages: cvzone\n",
      "Successfully installed cvzone-1.5.6\n",
      "Note: you may need to restart the kernel to use updated packages.\n"
     ]
    }
   ],
   "source": [
    "pip install cvzone"
   ]
  },
  {
   "cell_type": "code",
   "execution_count": 5,
   "metadata": {
    "collapsed": true,
    "jupyter": {
     "outputs_hidden": true
    }
   },
   "outputs": [
    {
     "name": "stdout",
     "output_type": "stream",
     "text": [
      "Collecting mediapipe\n",
      "  Downloading mediapipe-0.8.9.1-cp38-cp38-macosx_10_15_x86_64.whl (33.4 MB)\n",
      "\u001b[K     |████████████████████████████████| 33.4 MB 233 kB/s eta 0:00:01\n",
      "\u001b[?25hRequirement already satisfied: numpy in /Users/hsueh/opt/anaconda3/lib/python3.8/site-packages (from mediapipe) (1.19.2)\n",
      "Requirement already satisfied: matplotlib in /Users/hsueh/opt/anaconda3/lib/python3.8/site-packages (from mediapipe) (3.3.2)\n",
      "Collecting protobuf>=3.11.4\n",
      "  Downloading protobuf-3.19.4-cp38-cp38-macosx_10_9_x86_64.whl (961 kB)\n",
      "\u001b[K     |████████████████████████████████| 961 kB 180 kB/s eta 0:00:01\n",
      "\u001b[?25hRequirement already satisfied: attrs>=19.1.0 in /Users/hsueh/opt/anaconda3/lib/python3.8/site-packages (from mediapipe) (20.3.0)\n",
      "Collecting absl-py\n",
      "  Downloading absl_py-1.0.0-py3-none-any.whl (126 kB)\n",
      "\u001b[K     |████████████████████████████████| 126 kB 215 kB/s eta 0:00:01\n",
      "\u001b[?25hCollecting opencv-contrib-python\n",
      "  Downloading opencv_contrib_python-4.5.5.64-cp36-abi3-macosx_10_15_x86_64.whl (55.9 MB)\n",
      "\u001b[K     |████████████████████████████████| 55.9 MB 212 kB/s eta 0:00:01\n",
      "\u001b[?25hRequirement already satisfied: cycler>=0.10 in /Users/hsueh/opt/anaconda3/lib/python3.8/site-packages (from matplotlib->mediapipe) (0.10.0)\n",
      "Requirement already satisfied: pillow>=6.2.0 in /Users/hsueh/opt/anaconda3/lib/python3.8/site-packages (from matplotlib->mediapipe) (8.0.1)\n",
      "Requirement already satisfied: pyparsing!=2.0.4,!=2.1.2,!=2.1.6,>=2.0.3 in /Users/hsueh/opt/anaconda3/lib/python3.8/site-packages (from matplotlib->mediapipe) (2.4.7)\n",
      "Requirement already satisfied: python-dateutil>=2.1 in /Users/hsueh/opt/anaconda3/lib/python3.8/site-packages (from matplotlib->mediapipe) (2.8.1)\n",
      "Requirement already satisfied: kiwisolver>=1.0.1 in /Users/hsueh/opt/anaconda3/lib/python3.8/site-packages (from matplotlib->mediapipe) (1.3.0)\n",
      "Requirement already satisfied: certifi>=2020.06.20 in /Users/hsueh/opt/anaconda3/lib/python3.8/site-packages (from matplotlib->mediapipe) (2020.6.20)\n",
      "Requirement already satisfied: six in /Users/hsueh/opt/anaconda3/lib/python3.8/site-packages (from absl-py->mediapipe) (1.15.0)\n",
      "Installing collected packages: protobuf, absl-py, opencv-contrib-python, mediapipe\n",
      "Successfully installed absl-py-1.0.0 mediapipe-0.8.9.1 opencv-contrib-python-4.5.5.64 protobuf-3.19.4\n",
      "Note: you may need to restart the kernel to use updated packages.\n"
     ]
    }
   ],
   "source": [
    "pip install mediapipe"
   ]
  },
  {
   "cell_type": "code",
   "execution_count": 11,
   "metadata": {},
   "outputs": [
    {
     "ename": "IndentationError",
     "evalue": "unexpected indent (<ipython-input-11-6975fc935af8>, line 98)",
     "output_type": "error",
     "traceback": [
      "\u001b[0;36m  File \u001b[0;32m\"<ipython-input-11-6975fc935af8>\"\u001b[0;36m, line \u001b[0;32m98\u001b[0m\n\u001b[0;31m    stop\u001b[0m\n\u001b[0m    ^\u001b[0m\n\u001b[0;31mIndentationError\u001b[0m\u001b[0;31m:\u001b[0m unexpected indent\n"
     ]
    }
   ],
   "source": [
    "import cv2\n",
    "from cvzone.PoseModule import PoseDetector\n",
    "import numpy as np\n",
    "\n",
    "\n",
    "detector = PoseDetector()\n",
    "cap = cv2.VideoCapture(1)\n",
    "\n",
    "\n",
    "# error: unavailable size\n",
    "cap.set(cv2.CAP_PROP_FRAME_WIDTH, 640)\n",
    "cap.set(cv2.CAP_PROP_FRAME_HEIGHT, 360)\n",
    "#https://stackoverflow.com/questions/57660458/cant-set-frame-width-and-height-with-opencv-cv2-videocapture-set\n",
    "\n",
    "\n",
    "\n",
    "img1 = cv2.imread(\"Images/test01.png\")\n",
    "new_img1 = cv2.resize(img1, None, fx=0.5, fy=0.5)\n",
    "\n",
    "img2 = cv2.imread(\"Images/test01-2.jpg\")\n",
    "new_img2 = cv2.resize(img2, None, fx=0.5, fy=0.5)\n",
    "tl1, tr1, bl1, br1 = new_img1[0:153, 0:262], new_img1[0:153, 262:525], \\\n",
    "                     new_img1[153:301, 0:262], new_img1[153:301, 262:525]\n",
    "tl2, tr2, bl2, br2 = new_img2[0:153, 0:262], new_img2[0:153, 262:525], \\\n",
    "                     new_img2[153:301, 0:262], new_img2[153:301, 262:525]\n",
    "\n",
    "\n",
    "height = 360\n",
    "width = 640\n",
    "# x = 120\n",
    "# y = 300\n",
    "map = np.zeros((height, width, 3), np.uint8)\n",
    "# corner = ((x//200)*250, (y//200)*275)\n",
    "grey = (85, 85, 85)\n",
    "black = (0, 0, 0)\n",
    "\n",
    "\n",
    "print(cap.isOpened())\n",
    "while True:\n",
    "    success, img = cap.read()\n",
    "    \n",
    "    if not success:\n",
    "        print(\"cap.read failed\")\n",
    "        break\n",
    "    \n",
    "    img = cv2.flip(img, 1)\n",
    "    img = detector.findPose(img, draw=False)\n",
    "    \n",
    "    \n",
    "    lmlist, bbox = detector.findPosition(img, draw=False)\n",
    "    if bbox:\n",
    "        center = bbox[\"center\"]\n",
    "        cv2.circle(img, center, 5, (100, 255, 100), cv2.FILLED)\n",
    "        cv2.putText(img, str(center), (500, 500),\n",
    "                    cv2.FONT_HERSHEY_PLAIN, 2, (0, 0, 255), 2)\n",
    "        if 0 < center[0] < width // 2 and 0 < center[1] < height // 2:\n",
    "            cv2.rectangle(map, (0, 0), (width // 2, height // 2), grey, -1)\n",
    "            new_img1[0:153, 0:262] = tl2\n",
    "        else:\n",
    "            cv2.rectangle(map, (0, 0), (width // 2, height // 2), black, -1)\n",
    "        if width // 2 < center[0] < width and 0 < center[1] < height // 2:\n",
    "            cv2.rectangle(map, (width // 2, 0), (width, height // 2), grey, -1)\n",
    "            new_img1[0:153, 262:525] = tr2\n",
    "        else:\n",
    "            cv2.rectangle(map, (width // 2, 0), (width, height // 2), black, -1)\n",
    "        if 0 < center[0] < width // 2 and height // 2 < center[1] < height:\n",
    "            cv2.rectangle(map, (0, height // 2), (width // 2, height), grey, -1)\n",
    "            new_img1[153:301, 0:262] = bl2\n",
    "        else:\n",
    "            cv2.rectangle(map, (0, height // 2), (width // 2, height), black, -1)\n",
    "        if width // 2 < center[0] < width and height // 2 < center[1] < height:\n",
    "            cv2.rectangle(map, (width // 2, height // 2), (width, height), grey, -1)\n",
    "            new_img1[153:301, 262:525] = br2\n",
    "        else:\n",
    "            cv2.rectangle(map, (width // 2, height // 2), (width, height), black, -1)\n",
    "        cv2.circle(map, center, 5, (100,255,100), -1)\n",
    "\n",
    "\n",
    "\n",
    "\n",
    "\n",
    "    # cv2.rectangle(map, corner, (corner[0] + (width // 2), corner[1] + (height // 2)), (85, 85, 85), -1)\n",
    "    cv2.rectangle(map, (0, 0), (width, height), (240, 240, 240), 4)\n",
    "    cv2.line(map, (0, height // 2), (width, height // 2), (255, 255, 255), 1)  # x-axis\n",
    "    cv2.line(map, (width // 2, 0), (width // 2, height), (255, 255, 255), 1)  # y-axis\n",
    "\n",
    "    # cv2.rectangle(img, (0, 0), (300, 300), (255, 0, 255), 0)\n",
    "    cv2.imshow(\"Img\", img)\n",
    "    cv2.imshow(\"map\", map)\n",
    "    cv2.imshow(\"Img1\", new_img1)\n",
    "    cv2.waitKey(1)\n",
    "\n",
    "    \n",
    "    key = cv2.waitKey(1) # 30??\n",
    "    if key == ord('q') or key == 27: # ESC\n",
    "        break\n",
    "    \n",
    "    \n",
    "cap.release()\n",
    "cv2.destroyAllWindows()\n",
    "cv2.waitKey(1) # needed? yes\n",
    "\n",
    "        stop excute"
   ]
  },
  {
   "cell_type": "code",
   "execution_count": 3,
   "metadata": {},
   "outputs": [],
   "source": [
    "cap.release()"
   ]
  },
  {
   "cell_type": "code",
   "execution_count": 9,
   "metadata": {},
   "outputs": [],
   "source": [
    "import cv2\n",
    "from cvzone.PoseModule import PoseDetector\n",
    "import numpy as np\n",
    "\n",
    "detector = PoseDetector()\n",
    "cap = cv2.VideoCapture(1)\n",
    "\n",
    "\n"
   ]
  },
  {
   "cell_type": "code",
   "execution_count": 22,
   "metadata": {
    "collapsed": true,
    "jupyter": {
     "outputs_hidden": true
    }
   },
   "outputs": [
    {
     "name": "stdout",
     "output_type": "stream",
     "text": [
      "(False, None)\n"
     ]
    }
   ],
   "source": [
    "import cv2\n",
    "camera = cv2.VideoCapture('V3.mp4')\n",
    "camera.open(\"path/to/a/valid/video.mp4\") # False\n",
    "print(camera.read()) # (False, None)"
   ]
  },
  {
   "cell_type": "code",
   "execution_count": 18,
   "metadata": {
    "collapsed": true,
    "jupyter": {
     "outputs_hidden": true
    }
   },
   "outputs": [
    {
     "name": "stdout",
     "output_type": "stream",
     "text": [
      "(False, None)\n"
     ]
    }
   ],
   "source": [
    "import cv2\n",
    "camera = cv2.VideoCapture(1)\n",
    "print(camera.read()) # (False, None)"
   ]
  },
  {
   "cell_type": "code",
   "execution_count": 2,
   "metadata": {
    "collapsed": true,
    "jupyter": {
     "outputs_hidden": true
    }
   },
   "outputs": [
    {
     "name": "stdout",
     "output_type": "stream",
     "text": [
      "Processing /Users/hsueh/Library/Caches/pip/wheels/67/60/9a/e5060027d8eae2c01ba872fdbc094a6fe3fee15794ee3dc709/cvzone-1.5.6-py3-none-any.whl\n",
      "Requirement already satisfied: opencv-python in /Users/hsueh/opt/anaconda3/lib/python3.8/site-packages (from cvzone) (4.5.5.64)\n",
      "Requirement already satisfied: numpy in /Users/hsueh/opt/anaconda3/lib/python3.8/site-packages (from cvzone) (1.19.2)\n",
      "Installing collected packages: cvzone\n",
      "Successfully installed cvzone-1.5.6\n",
      "Note: you may need to restart the kernel to use updated packages.\n"
     ]
    }
   ],
   "source": [
    "pip install cvzone"
   ]
  },
  {
   "cell_type": "code",
   "execution_count": 1,
   "metadata": {},
   "outputs": [
    {
     "name": "stdout",
     "output_type": "stream",
     "text": [
      "cap.isOpened: True\n",
      "cap.read failed\n",
      "[False, False, False, False, False, False]\n"
     ]
    },
    {
     "data": {
      "text/plain": [
       "-1"
      ]
     },
     "execution_count": 1,
     "metadata": {},
     "output_type": "execute_result"
    }
   ],
   "source": [
    "### this only take out the detection part of above program\n",
    "\n",
    "import cv2\n",
    "from cvzone.PoseModule import PoseDetector\n",
    "import numpy as np\n",
    "\n",
    "\n",
    "############# important \n",
    "blockState = [0,100,0,15,20,30]\n",
    "blockTrigger = [False, False, False, False, False, False]\n",
    "#############\n",
    "\n",
    "\n",
    "detector = PoseDetector()\n",
    "cap = cv2.VideoCapture(1)\n",
    "\n",
    "\n",
    "# size = 1/2 => shape: (540, 960, 3)\n",
    "cap_height = 540\n",
    "cap_width = 960\n",
    "\n",
    "print(\"cap.isOpened:\", cap.isOpened())\n",
    "while True:\n",
    "    \n",
    "    #blockTrigger = [False, False, False, False, False, False]\n",
    "    \n",
    "    success, img = cap.read()\n",
    "\n",
    "    \n",
    "    if not success:\n",
    "        print(\"cap.read failed\")\n",
    "        break\n",
    "        \n",
    "    img = cv2.resize(img, None, fx=(1/2), fy=(1/2))\n",
    "    \n",
    "    img = cv2.flip(img, 1)\n",
    "\n",
    "    detector.findPose(img, draw=True)\n",
    "\n",
    "    lmlist, bbox = detector.findPosition(img, draw=True)\n",
    "    if bbox:\n",
    "        \n",
    "        center = bbox[\"center\"]\n",
    "\n",
    "        if center[0] < 0 or center[0] > cap_width or center[1] < 0 or center[1] > cap_height:\n",
    "            #print(\"ERROR: center[] is negative\", center)\n",
    "            noUse = 1\n",
    "        \n",
    "        # 0 1 2\n",
    "        # 3 4 5\n",
    "        \n",
    "        # 0 \n",
    "        elif center[0] < cap_width // 3 and center[1] < cap_height // 3:\n",
    "            cv2.putText(img, \"Block 0\", (100, 100), cv2.FONT_HERSHEY_PLAIN, 3, (0, 150, 255), 2)\n",
    "            if blockState[0] % 100 == 0:\n",
    "                # block is static\n",
    "                blockTrigger[0] = True\n",
    "            \n",
    "        # 1\n",
    "        elif center[0] < (cap_width // 3) * 2 and center[1] < cap_height // 3:\n",
    "            cv2.putText(img, \"Block 1\", (100, 100), cv2.FONT_HERSHEY_PLAIN, 3, (0, 150, 255), 2)\n",
    "            if blockState[1] % 100 == 0:\n",
    "                blockTrigger[1] = True\n",
    "\n",
    "        # 2\n",
    "        elif True and center[1] < cap_height // 3:\n",
    "            cv2.putText(img, \"Block 2\", (100, 100), cv2.FONT_HERSHEY_PLAIN, 3, (0, 150, 255), 2)\n",
    "            if blockState[2] % 100 == 0:\n",
    "                blockTrigger[2] = True\n",
    "            \n",
    "        # 3\n",
    "        elif center[0] < cap_width // 3:\n",
    "            cv2.putText(img, \"Block 3\", (100, 100), cv2.FONT_HERSHEY_PLAIN, 3, (0, 150, 255), 2)\n",
    "            if blockState[3] % 100 == 0:\n",
    "                blockTrigger[3] = True\n",
    "            \n",
    "        # 4\n",
    "        elif center[0] < (cap_width // 3) * 2:\n",
    "            cv2.putText(img, \"Block 4\", (100, 100), cv2.FONT_HERSHEY_PLAIN, 3, (0, 150, 255), 2)\n",
    "            if blockState[4] % 100 == 0:\n",
    "                blockTrigger[4] = True\n",
    "\n",
    "        # 5\n",
    "        else:\n",
    "            cv2.putText(img, \"Block 5\", (100, 100), cv2.FONT_HERSHEY_PLAIN, 3, (0, 150, 255), 2)\n",
    "            if blockState[5] % 100 == 0:\n",
    "                blockTrigger[5] = True\n",
    "        \n",
    "        cv2.putText(img, str(center), (100, 500), cv2.FONT_HERSHEY_PLAIN, 2, (0, 150, 255), 2)\n",
    "        cv2.putText(img, str(blockTrigger), (100, 300), cv2.FONT_HERSHEY_PLAIN, 2, (0, 150, 255), 2)\n",
    "\n",
    "\n",
    "\n",
    "\n",
    "        # Trigger\n",
    "        # False: no need to change, OR changing\n",
    "        # True: currently still, but need to start changing next frame\n",
    "\n",
    "\n",
    "    cv2.imshow(\"Img\", img)\n",
    "    cv2.waitKey(1)\n",
    "    \n",
    "    key = cv2.waitKey(1) # 30??\n",
    "    if key == ord('q') or key == 27: # ESC\n",
    "        break\n",
    "    \n",
    "    \n",
    "print(blockTrigger)\n",
    "cap.release()\n",
    "cv2.destroyAllWindows()\n",
    "cv2.waitKey(1) # needed? yes\n",
    "\n",
    "\n"
   ]
  },
  {
   "cell_type": "code",
   "execution_count": 2,
   "metadata": {},
   "outputs": [
    {
     "name": "stdout",
     "output_type": "stream",
     "text": [
      "(576, 1024, 3)\n"
     ]
    },
    {
     "data": {
      "text/plain": [
       "-1"
      ]
     },
     "execution_count": 2,
     "metadata": {},
     "output_type": "execute_result"
    }
   ],
   "source": [
    "import cv2\n",
    "from cvzone.PoseModule import PoseDetector\n",
    "import numpy as np\n",
    "\n",
    "\n",
    "\n",
    "\n",
    "detector = PoseDetector()\n",
    "cap = cv2.VideoCapture(1)\n",
    "\n",
    "\n",
    "\n",
    "\n",
    "success, img = cap.read()\n",
    "\n",
    "print(img.shape)\n",
    "\n",
    "cap.release()\n",
    "cv2.destroyAllWindows()\n",
    "cv2.waitKey(1) # needed? yes"
   ]
  },
  {
   "cell_type": "code",
   "execution_count": 10,
   "metadata": {},
   "outputs": [
    {
     "data": {
      "text/plain": [
       "(540, 960, 3)"
      ]
     },
     "execution_count": 10,
     "metadata": {},
     "output_type": "execute_result"
    }
   ],
   "source": [
    "img.shape"
   ]
  }
 ],
 "metadata": {
  "kernelspec": {
   "display_name": "Python 3",
   "language": "python",
   "name": "python3"
  },
  "language_info": {
   "codemirror_mode": {
    "name": "ipython",
    "version": 3
   },
   "file_extension": ".py",
   "mimetype": "text/x-python",
   "name": "python",
   "nbconvert_exporter": "python",
   "pygments_lexer": "ipython3",
   "version": "3.8.5"
  }
 },
 "nbformat": 4,
 "nbformat_minor": 4
}
