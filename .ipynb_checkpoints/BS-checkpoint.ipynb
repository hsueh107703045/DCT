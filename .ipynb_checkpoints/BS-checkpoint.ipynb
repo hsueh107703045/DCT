{
 "cells": [
  {
   "cell_type": "code",
   "execution_count": 11,
   "metadata": {
    "collapsed": true,
    "jupyter": {
     "outputs_hidden": true,
     "source_hidden": true
    }
   },
   "outputs": [
    {
     "ename": "AttributeError",
     "evalue": "module 'cv2.cv2' has no attribute 'createBackgroundSubtractorGMG'",
     "output_type": "error",
     "traceback": [
      "\u001b[0;31m---------------------------------------------------------------------------\u001b[0m",
      "\u001b[0;31mAttributeError\u001b[0m                            Traceback (most recent call last)",
      "\u001b[0;32m<ipython-input-11-80db50efd248>\u001b[0m in \u001b[0;36m<module>\u001b[0;34m\u001b[0m\n\u001b[1;32m      5\u001b[0m \u001b[0;34m\u001b[0m\u001b[0m\n\u001b[1;32m      6\u001b[0m \u001b[0mkernel\u001b[0m \u001b[0;34m=\u001b[0m \u001b[0mcv2\u001b[0m\u001b[0;34m.\u001b[0m\u001b[0mgetStructuringElement\u001b[0m\u001b[0;34m(\u001b[0m\u001b[0mcv2\u001b[0m\u001b[0;34m.\u001b[0m\u001b[0mMORPH_ELLIPSE\u001b[0m\u001b[0;34m,\u001b[0m\u001b[0;34m(\u001b[0m\u001b[0;36m3\u001b[0m\u001b[0;34m,\u001b[0m\u001b[0;36m3\u001b[0m\u001b[0;34m)\u001b[0m\u001b[0;34m)\u001b[0m\u001b[0;34m\u001b[0m\u001b[0;34m\u001b[0m\u001b[0m\n\u001b[0;32m----> 7\u001b[0;31m \u001b[0mfgbg\u001b[0m \u001b[0;34m=\u001b[0m \u001b[0mcv2\u001b[0m\u001b[0;34m.\u001b[0m\u001b[0mcreateBackgroundSubtractorGMG\u001b[0m\u001b[0;34m(\u001b[0m\u001b[0;34m)\u001b[0m\u001b[0;34m\u001b[0m\u001b[0;34m\u001b[0m\u001b[0m\n\u001b[0m\u001b[1;32m      8\u001b[0m \u001b[0;34m\u001b[0m\u001b[0m\n\u001b[1;32m      9\u001b[0m \u001b[0;32mwhile\u001b[0m\u001b[0;34m(\u001b[0m\u001b[0;36m1\u001b[0m\u001b[0;34m)\u001b[0m\u001b[0;34m:\u001b[0m\u001b[0;34m\u001b[0m\u001b[0;34m\u001b[0m\u001b[0m\n",
      "\u001b[0;31mAttributeError\u001b[0m: module 'cv2.cv2' has no attribute 'createBackgroundSubtractorGMG'"
     ]
    }
   ],
   "source": [
    "import numpy as np\n",
    "import cv2\n",
    "\n",
    "cap = cv2.VideoCapture('vtest.avi')\n",
    "\n",
    "kernel = cv2.getStructuringElement(cv2.MORPH_ELLIPSE,(3,3))\n",
    "fgbg = cv2.createBackgroundSubtractorGMG()\n",
    "\n",
    "while(1):\n",
    "    ret, frame = cap.read()\n",
    "\n",
    "    fgmask = fgbg.apply(frame)\n",
    "    fgmask = cv2.morphologyEx(fgmask, cv2.MORPH_OPEN, kernel)\n",
    "\n",
    "    cv2.imshow('frame',fgmask)\n",
    "    k = cv2.waitKey(30) & 0xff\n",
    "    if k == 27:\n",
    "        break\n",
    "\n",
    "cap.release()\n",
    "cv2.destroyAllWindows()"
   ]
  },
  {
   "cell_type": "code",
   "execution_count": 6,
   "metadata": {
    "collapsed": true,
    "jupyter": {
     "outputs_hidden": true,
     "source_hidden": true
    }
   },
   "outputs": [
    {
     "name": "stderr",
     "output_type": "stream",
     "text": [
      "usage: ipykernel_launcher.py [-h] [--input INPUT] [--algo ALGO]\n",
      "ipykernel_launcher.py: error: unrecognized arguments: -f /Users/hsueh/Library/Jupyter/runtime/kernel-1c992604-c49a-4243-999d-e8ae3bcf696f.json\n"
     ]
    },
    {
     "ename": "SystemExit",
     "evalue": "2",
     "output_type": "error",
     "traceback": [
      "An exception has occurred, use %tb to see the full traceback.\n",
      "\u001b[0;31mSystemExit\u001b[0m\u001b[0;31m:\u001b[0m 2\n"
     ]
    }
   ],
   "source": [
    "from __future__ import print_function\n",
    "import cv2 as cv\n",
    "import argparse\n",
    "\n",
    "parser = argparse.ArgumentParser(description='This program shows how to use background subtraction methods provided by \\\n",
    "                                              OpenCV. You can process both videos and images.')\n",
    "parser.add_argument('--input', type=str, help='Path to a video or a sequence of image.', default='vtest.avi')\n",
    "parser.add_argument('--algo', type=str, help='Background subtraction method (KNN, MOG2).', default='MOG2')\n",
    "args = parser.parse_args()\n",
    "\n",
    "## [create]\n",
    "#create Background Subtractor objects\n",
    "if args.algo == 'MOG2':\n",
    "    backSub = cv.createBackgroundSubtractorMOG2()\n",
    "else:\n",
    "    backSub = cv.createBackgroundSubtractorKNN()\n",
    "## [create]\n",
    "\n",
    "## [capture]\n",
    "capture = cv.VideoCapture(cv.samples.findFileOrKeep(args.input))\n",
    "if not capture.isOpened():\n",
    "    print('Unable to open: ' + args.input)\n",
    "    exit(0)\n",
    "## [capture]\n",
    "\n",
    "while True:\n",
    "    ret, frame = capture.read()\n",
    "    if frame is None:\n",
    "        break\n",
    "\n",
    "    ## [apply]\n",
    "    #update the background model\n",
    "    fgMask = backSub.apply(frame)\n",
    "    ## [apply]\n",
    "\n",
    "    ## [display_frame_number]\n",
    "    #get the frame number and write it on the current frame\n",
    "    cv.rectangle(frame, (10, 2), (100,20), (255,255,255), -1)\n",
    "    cv.putText(frame, str(capture.get(cv.CAP_PROP_POS_FRAMES)), (15, 15),\n",
    "               cv.FONT_HERSHEY_SIMPLEX, 0.5 , (0,0,0))\n",
    "    ## [display_frame_number]\n",
    "\n",
    "    ## [show]\n",
    "    #show the current frame and the fg masks\n",
    "    cv.imshow('Frame', frame)\n",
    "    cv.imshow('FG Mask', fgMask)\n",
    "    ## [show]\n",
    "\n",
    "    keyboard = cv.waitKey(30)\n",
    "    if keyboard == 'q' or keyboard == 27:\n",
    "        break"
   ]
  },
  {
   "cell_type": "code",
   "execution_count": 1,
   "metadata": {},
   "outputs": [
    {
     "name": "stdout",
     "output_type": "stream",
     "text": [
      "VarThreshold: 16.0\n",
      "History frame: 500\n"
     ]
    },
    {
     "data": {
      "text/plain": [
       "-1"
      ]
     },
     "execution_count": 1,
     "metadata": {},
     "output_type": "execute_result"
    }
   ],
   "source": [
    "# reference: \n",
    "# https://docs.opencv.org/4.x/d7/d7b/classcv_1_1BackgroundSubtractorMOG2.html#a5e8b40fef89a582ce42d99d2453db67a\n",
    "\n",
    "import cv2\n",
    "import numpy as np\n",
    "\n",
    "\n",
    "\n",
    "def matSum(mat, x1, y1, x2, y2):\n",
    "    #print(mat)\n",
    "    colSum = np.sum(mat[y1:y2+1], axis=0)\n",
    "    #print(colSum)\n",
    "    ans = np.sum(colSum[x1:x2+1])\n",
    "    #print(ans)\n",
    "    return ans\n",
    "\n",
    "\n",
    "\n",
    "#cap = cv2.VideoCapture('V3.mp4')\n",
    "cap = cv2.VideoCapture(1)\n",
    "\n",
    "\n",
    "BS = cv2.createBackgroundSubtractorMOG2(detectShadows = True)\n",
    "BS.setShadowValue(40)\n",
    "\n",
    "print('VarThreshold:', BS.getVarThreshold())\n",
    "#BS.setVarThreshold(80)\n",
    "\n",
    "print('History frame:', BS.getHistory())\n",
    "#BS.setHistory(200)\n",
    "\n",
    "\n",
    "ret, frame = cap.read()\n",
    "height = 200#frame.shape[0]\n",
    "width = 200#frame.shape[1]\n",
    "sign_img = np.zeros((height,width,3), np.uint8)\n",
    "touched = -1\n",
    "\n",
    "while True:\n",
    "    ret, frame = cap.read()\n",
    "    if frame is None:\n",
    "        print(\"frame is none\")\n",
    "        break\n",
    "        \n",
    "    #frame = cv2.cvtColor(frame, cv2.COLOR_BGR2GRAY)\n",
    "    mask = BS.apply(frame)\n",
    "    \n",
    "    # determine block no.\n",
    "    a = matSum(mask, 0, 0, width, height)\n",
    "    ratio = 20\n",
    "    if a > width*height*255/ratio:\n",
    "        #touched = 1\n",
    "        #print('sum:', a)\n",
    "        sign_img[:,:,1] = 255\n",
    "    else:\n",
    "        sign_img[:,:,1] = 0\n",
    "    \n",
    "    \n",
    "    \n",
    "    cv2.imshow('Frame', frame)\n",
    "    cv2.imshow('Mask', mask)\n",
    "    cv2.imshow('Sign', sign_img)\n",
    "    \n",
    "    \n",
    "    key = cv2.waitKey(1) # 30??\n",
    "    if key == ord('q') or key == 27: # ESC\n",
    "        break\n",
    "\n",
    "#print('Frame shape:', frame.shape) # error occur when frame is null so ###\n",
    "cap.release()\n",
    "cv2.destroyAllWindows()\n",
    "cv2.waitKey(1) # needed? yes"
   ]
  },
  {
   "cell_type": "code",
   "execution_count": 3,
   "metadata": {},
   "outputs": [],
   "source": [
    "mat = [[0, 1, 2, 3], [4, 5, 6, 7], [8, 9, 10, 11]]\n",
    "#print(mat,'\\n')\n",
    "colSum = np.sum(mat[0:2], axis=0)\n",
    "#print(colSum)\n",
    "a = np.sum(colSum[0:3])\n",
    "#print(a)"
   ]
  },
  {
   "cell_type": "code",
   "execution_count": 2,
   "metadata": {},
   "outputs": [],
   "source": [
    "def matSum(mat, x1, x2 , y1, y2):\n",
    "    #print(mat)\n",
    "    colSum = np.sum(mat[y1:y2+1], axis=0)\n",
    "    #print(colSum)\n",
    "    ans = np.sum(colSum[x1:x2+1])\n",
    "    #print(ans)\n",
    "    return ans"
   ]
  },
  {
   "cell_type": "code",
   "execution_count": 43,
   "metadata": {},
   "outputs": [
    {
     "name": "stdout",
     "output_type": "stream",
     "text": [
      "[[0, 1, 2, 3], [4, 5, 6, 7], [8, 9, 10, 11]]\n",
      "[ 4  6  8 10]\n",
      "10\n"
     ]
    },
    {
     "data": {
      "text/plain": [
       "10"
      ]
     },
     "execution_count": 43,
     "metadata": {},
     "output_type": "execute_result"
    }
   ],
   "source": [
    "matSum(mat,0,1,0,1)"
   ]
  },
  {
   "cell_type": "code",
   "execution_count": 36,
   "metadata": {},
   "outputs": [
    {
     "data": {
      "text/plain": [
       "48"
      ]
     },
     "execution_count": 36,
     "metadata": {},
     "output_type": "execute_result"
    }
   ],
   "source": [
    "5+6+7+9+10+11\n"
   ]
  },
  {
   "cell_type": "code",
   "execution_count": null,
   "metadata": {},
   "outputs": [],
   "source": [
    "[[0, 1, 2, 3],\n",
    " [4, 5, 6, 7], \n",
    " [8, 9, 10, 11]]\n",
    "\n",
    "cv2.createBackgroundSubtractorMOG2()\n"
   ]
  }
 ],
 "metadata": {
  "kernelspec": {
   "display_name": "Python 3",
   "language": "python",
   "name": "python3"
  },
  "language_info": {
   "codemirror_mode": {
    "name": "ipython",
    "version": 3
   },
   "file_extension": ".py",
   "mimetype": "text/x-python",
   "name": "python",
   "nbconvert_exporter": "python",
   "pygments_lexer": "ipython3",
   "version": "3.8.5"
  }
 },
 "nbformat": 4,
 "nbformat_minor": 4
}
